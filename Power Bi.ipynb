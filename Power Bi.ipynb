{
 "cells": [
  {
   "cell_type": "markdown",
   "id": "2f9bd317-72dd-432e-8f63-c3747b90d7f3",
   "metadata": {},
   "source": [
    "###  Tablero Power Bi"
   ]
  },
  {
   "cell_type": "code",
   "execution_count": null,
   "id": "9f8aa7f7-75b2-45de-ad60-09558e4ab943",
   "metadata": {},
   "outputs": [],
   "source": [
    "### Para la generacion del tablero de power bi se trabajo primero en entender el "
   ]
  }
 ],
 "metadata": {
  "kernelspec": {
   "display_name": "Python 3 (ipykernel)",
   "language": "python",
   "name": "python3"
  },
  "language_info": {
   "codemirror_mode": {
    "name": "ipython",
    "version": 3
   },
   "file_extension": ".py",
   "mimetype": "text/x-python",
   "name": "python",
   "nbconvert_exporter": "python",
   "pygments_lexer": "ipython3",
   "version": "3.12.4"
  }
 },
 "nbformat": 4,
 "nbformat_minor": 5
}
