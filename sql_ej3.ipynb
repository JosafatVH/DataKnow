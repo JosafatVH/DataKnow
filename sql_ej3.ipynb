{
 "cells": [
  {
   "cell_type": "markdown",
   "id": "81ded811-ce08-46e2-a54d-222b04c4c09b",
   "metadata": {},
   "source": [
    "### Creamos los tablas correspondientes para almacenar la información e insertamos los datos"
   ]
  },
  {
   "cell_type": "code",
   "execution_count": 1,
   "id": "60989859-0098-4a33-a85b-2ff8f17bd97c",
   "metadata": {},
   "outputs": [],
   "source": [
    "#CREATE TABLE EMPLEADO (\n",
    "# ID INT8,\n",
    "# NOMBRE VARCHAR(50),\n",
    "# APELLIDO VARCHAR(59),\n",
    "# SEXO CHAR(1),\n",
    "# FECHA_NACIMIENTO DATE,\n",
    "# SALARIO NUMERIC(10,2)\n",
    "# );\n",
    "\n",
    "#CREATE TABLE VACACIONES(\n",
    "# ID INT8,\n",
    "# ID_EMP INT8,\n",
    "# FECHA_INICIO DATE,\n",
    "# FECHA_FIN DATE,\n",
    "# ESTADO CHAR(1),\n",
    "# CANTIDAD_DIAS INT8\n",
    "#); \n",
    "\n",
    "#/*EN ESTA TABLA SE ALMACENA LA INFORMACIÓN BASICA DE LOS \n",
    "#EMPLEADOS*/\n",
    "\n",
    "#INSERT INTO EMPLEADO VALUES (1,'JUAN','PELAEZ','M','1985-01-29',3500000);\n",
    "#INSERT INTO EMPLEADO VALUES (2,'ANDRES','GARCIA','M','1975-05-22',5500000);\n",
    "#INSERT INTO EMPLEADO VALUES (3,'LAURA','PEREZ','F','1991-09-10',2500000);\n",
    "#INSERT INTO EMPLEADO VALUES (4,'PEPE','MARTINEZ','M','1987-12-01',3800000);\n",
    "#INSERT INTO EMPLEADO VALUES (5,'MARGARITA','CORRALES','F','1990-07-02',4500000); \n",
    "\n",
    "#/*EN ESTA TABLA SE ALMACENA LAS SOLCITUDES DE VACIONES DE CADA \n",
    "#EMPLEADO*/\n",
    "#INSERT INTO VACACIONES VALUES (1,1,'2019-07-01','2019-07-15','A',14);\n",
    "#INSERT INTO VACACIONES VALUES (2,2,'2019-03-01','2019-03-15','R',14);\n",
    "#INSERT INTO VACACIONES VALUES (3,2,'2019-04-01','2019-04-15','A',14);\n",
    "#INSERT INTO VACACIONES VALUES (4,2,'2019-08-14','2019-08-20','A',6);\n",
    "#INSERT INTO VACACIONES VALUES (5,3,'2019-08-20','2019-08-25','A',5);\n",
    "#INSERT INTO VACACIONES VALUES (6,3,'2019-12-20','2019-12-31','A',11);"
   ]
  },
  {
   "cell_type": "code",
   "execution_count": 2,
   "id": "e9233c9d-1ff3-46b4-9d78-34a2ad678347",
   "metadata": {},
   "outputs": [],
   "source": [
    "# Seleccione nombre, apellido y salario de todos los empleados.\n",
    "\n",
    "#SELECT \n",
    "#\tnombre, apellido, salario \n",
    "#FROM\n",
    "#\templeado\n",
    "#ORDER BY\n",
    "#\tsalario DESC;\n"
   ]
  },
  {
   "cell_type": "markdown",
   "id": "ff2721e2-6c58-49f7-8ea9-e19ffbe034ff",
   "metadata": {},
   "source": [
    "<img src=\"./Prueba_Tecnica/Resultados/img/Ej1.png\">"
   ]
  },
  {
   "cell_type": "code",
   "execution_count": 3,
   "id": "ab23d35d-20d7-4031-ac5b-d345a4b35a97",
   "metadata": {},
   "outputs": [],
   "source": [
    "#-- Seleccione nombre, apellido y salario de todos los empleados que ganen más de 4 millones.\n",
    "\n",
    "#SELECT \n",
    "#\tnombre, apellido, salario \n",
    "#FROM\n",
    "#\templeado\n",
    "#WHERE\n",
    "#\tsalario > 4000000;"
   ]
  },
  {
   "cell_type": "markdown",
   "id": "a01ed47c-83c5-4efc-b3ab-4c991e33f60d",
   "metadata": {},
   "source": [
    "<img src=\"./Prueba_Tecnica/Resultados/img/Ej2.png\">"
   ]
  },
  {
   "cell_type": "code",
   "execution_count": 4,
   "id": "06f22e83-0646-4f16-957c-da8e906f6810",
   "metadata": {},
   "outputs": [],
   "source": [
    "#-- Cuente los empleados por sexo.\n",
    "\n",
    "#SELECT \n",
    "#\tsexo,COUNT(*) as conteo_genero\n",
    "#FROM\n",
    "#\templeado\n",
    "#GROUP BY \n",
    "#\tsexo;"
   ]
  },
  {
   "cell_type": "markdown",
   "id": "61677424-b05e-4678-b060-a119eca42799",
   "metadata": {},
   "source": [
    "<img src=\"./Prueba_Tecnica/Resultados/img/Ej3.png\">"
   ]
  },
  {
   "cell_type": "code",
   "execution_count": 5,
   "id": "c4dc2225-5a80-4711-a001-fc3e5ba85e71",
   "metadata": {},
   "outputs": [],
   "source": [
    "#-- Seleccione los empleados que no han hecho solicitud de vacaciones.\n",
    "#SELECT \n",
    "#\t*\n",
    "#FROM \n",
    "#\templeado\n",
    "#LEFT JOIN \n",
    "#\tvacaciones ON empleado.id = vacaciones.id_emp\n",
    "#WHERE\n",
    "#\tvacaciones.estado IS NULL;"
   ]
  },
  {
   "cell_type": "markdown",
   "id": "4228fd9d-a218-4f86-8cae-104a2b15d1e2",
   "metadata": {},
   "source": [
    "<img src=\"./Prueba_Tecnica/Resultados/img/Ej4.png\">"
   ]
  },
  {
   "cell_type": "code",
   "execution_count": 6,
   "id": "5a0c57cc-902e-4f9f-aa5f-ffd986b66a86",
   "metadata": {},
   "outputs": [],
   "source": [
    "#-- Seleccione los empleados que tengan más de una solicitud de vacaciones y muestre cuantas solicitudes tienen los que cumplen.\n",
    "\n",
    "#select\n",
    "#\tnombre, apellido, count(*) as conteo_solicitudes\n",
    "#from \n",
    "#\templeado\n",
    "#inner join\n",
    "#\tvacaciones on empleado.id = vacaciones.id_emp\n",
    "#group by \n",
    "#\tnombre, apellido \n",
    "#having\n",
    "#\tcount(*) > 1;"
   ]
  },
  {
   "cell_type": "markdown",
   "id": "13538835-38dc-4662-a412-ec5213344208",
   "metadata": {},
   "source": [
    "<img src=\"./Prueba_Tecnica/Resultados/img/Ej5.png\">"
   ]
  },
  {
   "cell_type": "code",
   "execution_count": 7,
   "id": "bd7bf8e8-6f79-4939-807e-cc93bc88337b",
   "metadata": {},
   "outputs": [],
   "source": [
    "#-- Determine el salario promedio de los empleados.\n",
    "\n",
    "#select \n",
    "#\tavg(salario) as salario_promedio\n",
    "#from \n",
    "#\templeado;"
   ]
  },
  {
   "cell_type": "markdown",
   "id": "0fa9170a-dd06-4b19-bdf8-26e847ff177c",
   "metadata": {},
   "source": [
    "<img src=\"./Prueba_Tecnica/Resultados/img/Ej6.png\">"
   ]
  },
  {
   "cell_type": "code",
   "execution_count": 10,
   "id": "b2067e64-01c6-449b-aaa6-19f5c2a371a0",
   "metadata": {},
   "outputs": [],
   "source": [
    "#-- Determine la cantidad de días promedio solicitados de vacaciones por cada empleado.\n",
    "\n",
    "#select\n",
    "#\tid_emp, round(avg(cantidad_dias)) as dias_promedio_de_vacaciones\n",
    "#from \n",
    "#\tvacaciones\n",
    "#group by \n",
    "#\tid_emp\n",
    "#order by \n",
    "#\tid_emp;"
   ]
  },
  {
   "cell_type": "markdown",
   "id": "d92f4a0b-22aa-44b5-9fc1-1f5d53a7a8a7",
   "metadata": {},
   "source": [
    "<img src=\"./Prueba_Tecnica/Resultados/img/Ej7.png\">"
   ]
  },
  {
   "cell_type": "code",
   "execution_count": 8,
   "id": "dd34a126-01c3-4580-a97b-b2a323cdc640",
   "metadata": {},
   "outputs": [],
   "source": [
    "#-- Seleccione el empleado que mayor cantidad de días de vacaciones ha solicitado, muestre el nombre, apellido y cantidad de días totales solicitados.\n",
    "\n",
    "#SELECT \n",
    "#\te.nombre, e.apellido, sum(v.cantidad_dias) as total_dias\n",
    "#FROM \n",
    "#\templeado e \n",
    "#LEFT JOIN \n",
    "#\tvacaciones v ON e.id = v.id_emp\n",
    "#GROUP BY\n",
    "#\te.id,e.nombre, e.apellido\n",
    "#HAVING\n",
    "#\tsum(v.cantidad_dias) > 30;"
   ]
  },
  {
   "cell_type": "markdown",
   "id": "0ac7f8e6-ea99-4d5b-a65a-12540e11cb3e",
   "metadata": {},
   "source": [
    "<img src=\"./Prueba_Tecnica/Resultados/img/Ej8.png\">"
   ]
  },
  {
   "cell_type": "code",
   "execution_count": 9,
   "id": "fa341204-c4d4-4d96-a3e7-32c2ac02fc46",
   "metadata": {},
   "outputs": [],
   "source": [
    "#-- Consulte la cantidad de días aprobados y rechazados por cada empleado, en caso de no tener solicitudes mostrar 0.\n",
    "\n",
    "#SELECT \n",
    "#\te.nombre, e.apellido, \n",
    "#\tCOALESCE(SUM(CASE WHEN v.estado = 'A' THEN v.cantidad_dias ELSE 0 END), 0) AS dias_aprobados,\n",
    "#\tCOALESCE(SUM(CASE WHEN v.estado = 'R' THEN v.cantidad_dias ELSE 0 END), 0) AS dias_rechazados\n",
    "#FROM \n",
    "#\templeado e \n",
    "#LEFT JOIN \n",
    "#\tvacaciones v ON e.id = v.id_emp\n",
    "#GROUP BY \n",
    "#\te.id, e.nombre, e.apellido\n",
    "#ORDER BY \n",
    "#\tdias_aprobados, dias_rechazados desc;\n"
   ]
  },
  {
   "cell_type": "markdown",
   "id": "49fbc563-6f71-4598-92ef-ecfdb356ad8b",
   "metadata": {},
   "source": [
    "<img src=\"./Prueba_Tecnica/Resultados/img/Ej9.png\">"
   ]
  }
 ],
 "metadata": {
  "kernelspec": {
   "display_name": "Python 3 (ipykernel)",
   "language": "python",
   "name": "python3"
  },
  "language_info": {
   "codemirror_mode": {
    "name": "ipython",
    "version": 3
   },
   "file_extension": ".py",
   "mimetype": "text/x-python",
   "name": "python",
   "nbconvert_exporter": "python",
   "pygments_lexer": "ipython3",
   "version": "3.12.4"
  }
 },
 "nbformat": 4,
 "nbformat_minor": 5
}
